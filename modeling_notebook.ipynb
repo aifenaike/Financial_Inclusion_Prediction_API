{
 "cells": [
  {
   "cell_type": "markdown",
   "id": "58600be8",
   "metadata": {},
   "source": [
    "### Import Libraries"
   ]
  },
  {
   "cell_type": "code",
   "execution_count": 1,
   "id": "1391c581",
   "metadata": {},
   "outputs": [],
   "source": [
    "import numpy as np\n",
    "import pandas as pd\n",
    "import matplotlib.pyplot as plt\n",
    "import seaborn as sns\n",
    "from category_encoders.target_encoder import TargetEncoder\n",
    "import scipy\n",
    "\n",
    "#Disable Warnings\n",
    "import warnings\n",
    "warnings.filterwarnings(\"ignore\")"
   ]
  },
  {
   "cell_type": "markdown",
   "id": "51682859",
   "metadata": {},
   "source": [
    "### Import dataset"
   ]
  },
  {
   "cell_type": "code",
   "execution_count": 2,
   "id": "5e562102",
   "metadata": {},
   "outputs": [],
   "source": [
    "def read_file(path):\n",
    "    return pd.read_csv(path)\n",
    "train = read_file(path='data/train.csv')\n",
    "test = read_file(path='data/test.csv')"
   ]
  },
  {
   "cell_type": "code",
   "execution_count": 3,
   "id": "8bf4b98d",
   "metadata": {},
   "outputs": [
    {
     "name": "stdout",
     "output_type": "stream",
     "text": [
      "<class 'pandas.core.frame.DataFrame'>\n",
      "RangeIndex: 23524 entries, 0 to 23523\n",
      "Data columns (total 13 columns):\n",
      " #   Column                  Non-Null Count  Dtype \n",
      "---  ------                  --------------  ----- \n",
      " 0   country                 23524 non-null  object\n",
      " 1   year                    23524 non-null  int64 \n",
      " 2   uniqueid                23524 non-null  object\n",
      " 3   bank_account            23524 non-null  object\n",
      " 4   location_type           23524 non-null  object\n",
      " 5   cellphone_access        23524 non-null  object\n",
      " 6   household_size          23524 non-null  int64 \n",
      " 7   age_of_respondent       23524 non-null  int64 \n",
      " 8   gender_of_respondent    23524 non-null  object\n",
      " 9   relationship_with_head  23524 non-null  object\n",
      " 10  marital_status          23524 non-null  object\n",
      " 11  education_level         23524 non-null  object\n",
      " 12  job_type                23524 non-null  object\n",
      "dtypes: int64(3), object(10)\n",
      "memory usage: 2.3+ MB\n"
     ]
    }
   ],
   "source": [
    "train.info()"
   ]
  },
  {
   "cell_type": "code",
   "execution_count": 4,
   "id": "8ebfc877",
   "metadata": {},
   "outputs": [],
   "source": [
    "#Combine both train and test sets for easy wrangling\n",
    "all_data = pd.concat([train,test]).reset_index(drop=True)\n",
    "\n",
    "#Feature Engineering\n",
    "all_data[\"bank_account\"].replace({\"Yes\":1,\"No\":0},inplace=True)\n",
    "all_data[\"cellphone_access\"].replace({\"Yes\":1,\"No\":0},inplace=True)\n",
    "all_data[\"location_type\"].replace({\"Rural\":0,\"Urban\":1},inplace=True)\n",
    "\n",
    "\n",
    "n_train = train.shape[0]\n",
    "n_test = test.shape[0]\n",
    "train = all_data.iloc[:n_train]\n",
    "test = all_data.iloc[-n_test:].reset_index(drop=True)\n",
    "\n",
    "train['bank_account'] = train['bank_account'].astype(np.int64)\n",
    "target = train['bank_account']\n",
    "test__ = test.drop(['uniqueid','bank_account'],1)\n",
    "train.drop([\"uniqueid\",'bank_account'],1,inplace=True)\n",
    "\n",
    "cat_cols=[\"country\",\"gender_of_respondent\",\"education_level\",\"job_type\",\"marital_status\",\"relationship_with_head\"]\n",
    "TE = TargetEncoder(verbose=0, cols=cat_cols, drop_invariant=False, return_df=True)\n",
    "\n",
    "from sklearn.preprocessing import StandardScaler\n",
    "ss = StandardScaler()\n"
   ]
  },
  {
   "cell_type": "code",
   "execution_count": 5,
   "id": "43913c52",
   "metadata": {},
   "outputs": [],
   "source": [
    "#Target encode the categorical features\n",
    "TE.fit(train,target)\n",
    "train_ = TE.transform(train)\n",
    "test_ = TE.transform(test__)\n",
    "\n",
    "train_[['household_size',\"age_of_respondent\"]] = ss.fit_transform(train_[['household_size',\"age_of_respondent\"]])\n",
    "test_[['household_size',\"age_of_respondent\"]] = ss.transform(test_[['household_size',\"age_of_respondent\"]])"
   ]
  },
  {
   "cell_type": "code",
   "execution_count": 6,
   "id": "4d323f41",
   "metadata": {},
   "outputs": [],
   "source": [
    "#Drop already redundant features.\n",
    "columns_to_drop = ['year']\n",
    "train_.drop(columns_to_drop,1,inplace=True)\n",
    "test_.drop(columns_to_drop,1,inplace=True)"
   ]
  },
  {
   "cell_type": "code",
   "execution_count": 7,
   "id": "7982c064",
   "metadata": {},
   "outputs": [],
   "source": [
    "from sklearn.model_selection import train_test_split, StratifiedKFold\n",
    "from sklearn.metrics import mean_absolute_error\n",
    "X_train, X_test, y_train, y_test = train_test_split(train_,target,test_size=0.2,stratify=target)\n",
    "skf = StratifiedKFold(n_splits=7, random_state=10, shuffle=True)"
   ]
  },
  {
   "cell_type": "code",
   "execution_count": 8,
   "id": "314909a6",
   "metadata": {},
   "outputs": [],
   "source": [
    "#Define training loop\n",
    "\n",
    "def training_loop(estimator):\n",
    "    fold=0\n",
    "    scores,predictions=[],[]\n",
    "    for train_index, test_index in skf.split(X_train,y_train):\n",
    "        fold+=1\n",
    "        print(f\"================Fold:{fold}====================\")\n",
    "        xtrain, xtest = X_train.iloc[train_index],X_train.iloc[test_index]\n",
    "        ytrain, ytest = y_train.iloc[train_index],y_train.iloc[test_index]\n",
    "        model = estimator.fit(xtrain,ytrain)\n",
    "        #predict on train\n",
    "        pred_train = model.predict(xtrain)\n",
    "        #Get MAE on training\n",
    "        score_train = mean_absolute_error(ytrain,pred_train)\n",
    "        #Predict on test\n",
    "        pred_test = model.predict(xtest)\n",
    "        pred_ = model.predict(test_)\n",
    "        #Get MAE on test\n",
    "        score_test = mean_absolute_error(ytest,pred_test)\n",
    "        #Print scores\n",
    "        print(f\"The (train) mean_absolute_error for Fold({fold}): {score_train}\")\n",
    "        print(f\"The (test) mean_absolute_error for Fold({fold}): {score_test}\\n\\n\")\n",
    "        #Store scores and predictions\n",
    "        scores.append(score_test)\n",
    "        predictions.append(pred_)\n",
    "    print(f\"Mean MAE score on test set: {np.mean(scores)}\")\n",
    "    return predictions\n",
    "    "
   ]
  },
  {
   "cell_type": "code",
   "execution_count": 9,
   "id": "f07170c4",
   "metadata": {},
   "outputs": [
    {
     "name": "stdout",
     "output_type": "stream",
     "text": [
      "================Fold:1====================\n",
      "The (train) mean_absolute_error for Fold(1): 0.10923744575325481\n",
      "The (test) mean_absolute_error for Fold(1): 0.10859055410933433\n",
      "\n",
      "\n",
      "================Fold:2====================\n",
      "The (train) mean_absolute_error for Fold(2): 0.10960942343459393\n",
      "The (test) mean_absolute_error for Fold(2): 0.114540721457791\n",
      "\n",
      "\n",
      "================Fold:3====================\n",
      "The (train) mean_absolute_error for Fold(3): 0.10861748295102294\n",
      "The (test) mean_absolute_error for Fold(3): 0.11230940870211975\n",
      "\n",
      "\n",
      "================Fold:4====================\n",
      "The (train) mean_absolute_error for Fold(4): 0.11003657553778438\n",
      "The (test) mean_absolute_error for Fold(4): 0.11421130952380952\n",
      "\n",
      "\n",
      "================Fold:5====================\n",
      "The (train) mean_absolute_error for Fold(5): 0.10662699150703614\n",
      "The (test) mean_absolute_error for Fold(5): 0.12313988095238096\n",
      "\n",
      "\n",
      "================Fold:6====================\n",
      "The (train) mean_absolute_error for Fold(6): 0.10916868142086665\n",
      "The (test) mean_absolute_error for Fold(6): 0.10788690476190477\n",
      "\n",
      "\n",
      "================Fold:7====================\n",
      "The (train) mean_absolute_error for Fold(7): 0.10929266629471204\n",
      "The (test) mean_absolute_error for Fold(7): 0.109375\n",
      "\n",
      "\n",
      "Mean MAE score on test set: 0.11286482564390576\n"
     ]
    }
   ],
   "source": [
    "#Train a regularized greedy tree model\n",
    "from rgf.sklearn import RGFClassifier\n",
    "rgf_model = RGFClassifier(n_jobs=-1,algorithm='RGF_Opt')\n",
    "pred_rgf = training_loop(rgf_model)\n",
    "preds = scipy.stats.mode(np.stack(pred_rgf), axis=0)[0].flatten()\n",
    "# Mean MAE score on test set: 0.11148367514540215"
   ]
  },
  {
   "cell_type": "code",
   "execution_count": 10,
   "id": "5def7d34",
   "metadata": {},
   "outputs": [],
   "source": [
    "# Create submission DataFrame\n",
    "submission = pd.DataFrame({\"uniqueid\": test[\"uniqueid\"] + \" x \" + test[\"country\"],\n",
    "                           \"bank_account\": preds})"
   ]
  },
  {
   "cell_type": "code",
   "execution_count": null,
   "id": "1eecc4cc",
   "metadata": {},
   "outputs": [],
   "source": [
    "# Create submission csv file csv file\n",
    "submission.to_csv('rgf_opt_submission2.csv', index = False)"
   ]
  },
  {
   "cell_type": "code",
   "execution_count": null,
   "id": "d841e768",
   "metadata": {},
   "outputs": [],
   "source": []
  }
 ],
 "metadata": {
  "kernelspec": {
   "display_name": "Python 3 (ipykernel)",
   "language": "python",
   "name": "python3"
  },
  "language_info": {
   "codemirror_mode": {
    "name": "ipython",
    "version": 3
   },
   "file_extension": ".py",
   "mimetype": "text/x-python",
   "name": "python",
   "nbconvert_exporter": "python",
   "pygments_lexer": "ipython3",
   "version": "3.9.7"
  }
 },
 "nbformat": 4,
 "nbformat_minor": 5
}
